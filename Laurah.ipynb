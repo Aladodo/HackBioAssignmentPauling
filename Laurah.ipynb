{
 "cells": [
  {
   "cell_type": "code",
   "execution_count": 4,
   "metadata": {},
   "outputs": [
    {
     "name": "stdout",
     "output_type": "stream",
     "text": [
      "My name is Laurah Ondari aka Laurah on slack. I'm interested in ['genomics', 'drug development', 'data analytics']. Chat me up on email: laurahondari22@gmail.com\n"
     ]
    }
   ],
   "source": [
    "Name= \"Laurah Ondari\"\n",
    "Email= \"laurahondari22@gmail.com\"\n",
    "Slack_username= \"Laurah\"\n",
    "Biostack=[\"genomics\", \"drug development\", \"data analytics\"]\n",
    "print(\"My name is %s aka %s on slack. I'm interested in %s. Chat me up on email: %s\" %(Name,Slack_username,Biostack,Email))"
   ]
  },
  {
   "cell_type": "code",
   "execution_count": null,
   "metadata": {},
   "outputs": [],
   "source": []
  }
 ],
 "metadata": {
  "kernelspec": {
   "display_name": "Python 3",
   "language": "python",
   "name": "python3"
  },
  "language_info": {
   "codemirror_mode": {
    "name": "ipython",
    "version": 3
   },
   "file_extension": ".py",
   "mimetype": "text/x-python",
   "name": "python",
   "nbconvert_exporter": "python",
   "pygments_lexer": "ipython3",
   "version": "3.7.9"
  }
 },
 "nbformat": 4,
 "nbformat_minor": 4
}
